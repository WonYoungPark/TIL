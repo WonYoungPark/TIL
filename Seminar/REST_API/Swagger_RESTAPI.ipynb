{
 "cells": [
  {
   "cell_type": "markdown",
   "metadata": {},
   "source": [
    "## 모듈 설치 및 import"
   ]
  },
  {
   "cell_type": "code",
   "execution_count": 5,
   "metadata": {
    "scrolled": true
   },
   "outputs": [],
   "source": [
    "pip install flask_restplus"
   ]
  },
  {
   "cell_type": "code",
   "execution_count": 1,
   "metadata": {},
   "outputs": [],
   "source": [
    "# -*- coding:utf-8 -*-\n",
    "import werkzeug\n",
    "werkzeug.cached_property = werkzeug.utils.cached_property\n",
    "from flask import Flask\n",
    "from flask_restplus import Resource, Api, reqparse"
   ]
  },
  {
   "cell_type": "markdown",
   "metadata": {},
   "source": [
    "## API"
   ]
  },
  {
   "cell_type": "code",
   "execution_count": 2,
   "metadata": {},
   "outputs": [],
   "source": [
    "app = Flask(__name__)\n",
    "api = Api(app, version='1.0', title='Calc API', description='계산기 REST API 문서',)\n",
    "\n",
    "ns = api.namespace('calc', description='계산기 API 목록') #현재 API에 대한 ns의 리소스를 등록\n",
    "app.config.SWAGGER_UI_DOC_EXPANSION = 'list'  # None, list, full : 초기 확장 상태 지정"
   ]
  },
  {
   "cell_type": "code",
   "execution_count": 3,
   "metadata": {},
   "outputs": [
    {
     "data": {
      "text/plain": [
       "<flask_restplus.reqparse.RequestParser at 0x7fecc74a28d0>"
      ]
     },
     "execution_count": 3,
     "metadata": {},
     "output_type": "execute_result"
    }
   ],
   "source": [
    "sum_parser = ns.parser()\n",
    "sum_parser.add_argument('value1', required=True, help='연산자1')\n",
    "sum_parser.add_argument('value2', required=True, help='연산자2')"
   ]
  },
  {
   "cell_type": "code",
   "execution_count": null,
   "metadata": {
    "scrolled": true
   },
   "outputs": [
    {
     "name": "stdout",
     "output_type": "stream",
     "text": [
      " * Serving Flask app \"__main__\" (lazy loading)\n",
      " * Environment: production\n",
      "\u001b[31m   WARNING: This is a development server. Do not use it in a production deployment.\u001b[0m\n",
      "\u001b[2m   Use a production WSGI server instead.\u001b[0m\n",
      " * Debug mode: off\n"
     ]
    }
   ],
   "source": [
    "@ns.route('/sum')\n",
    "@ns.expect(sum_parser)\n",
    "class FileReport(Resource):\n",
    "    def get(self):\n",
    "        \"\"\"\n",
    "                Calculate addition\n",
    "        \"\"\"\n",
    "        args = sum_parser.parse_args()\n",
    "\n",
    "        try:\n",
    "            val1 = args['value1']\n",
    "            val2 = args['value2']\n",
    "        except KeyError:\n",
    "            return {'result': 'ERROR_PARAMETER'}, 500\n",
    "\n",
    "        result = {'result': 'ERROR_SUCCESS', 'value': int(val1) + int(val2)}\n",
    "        return result, 200\n",
    "\n",
    "\n",
    "if __name__ == '__main__':\n",
    "    app.run(host='0.0.0.0', port=5000)  # , debug=True)"
   ]
  },
  {
   "cell_type": "code",
   "execution_count": null,
   "metadata": {},
   "outputs": [],
   "source": []
  }
 ],
 "metadata": {
  "kernelspec": {
   "display_name": "Python 3",
   "language": "python",
   "name": "python3"
  },
  "language_info": {
   "codemirror_mode": {
    "name": "ipython",
    "version": 3
   },
   "file_extension": ".py",
   "mimetype": "text/x-python",
   "name": "python",
   "nbconvert_exporter": "python",
   "pygments_lexer": "ipython3",
   "version": "3.7.7"
  }
 },
 "nbformat": 4,
 "nbformat_minor": 4
}
