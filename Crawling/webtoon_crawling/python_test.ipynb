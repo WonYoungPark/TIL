{
 "cells": [
  {
   "cell_type": "code",
   "execution_count": 5,
   "metadata": {},
   "outputs": [
    {
     "name": "stdout",
     "output_type": "stream",
     "text": [
      "나이를 입력하세요.: 0\n",
      "1부터의 정수를 입력해 주세요.\n"
     ]
    }
   ],
   "source": [
    "# 다음은 입력된 나이에 따라 학교를 구분하는 함수이다. 'd'를 입력한다면 어떤 결과 값이 나오겠는가?\n",
    "\n",
    "year = int(input('나이를 입력하세요.: '))\n",
    "\n",
    "if 1 <= year <= 7:\n",
    "    print('아직 학교를 다닐 나이가 아닙니다.')\n",
    "elif 8 <= year <= 13:\n",
    "    print('초등학생입니다.')\n",
    "elif 14 <= year <= 16:\n",
    "    print('중학생입니다.')\n",
    "elif 17 <= year <= 19:\n",
    "    print('고등학생입니다.')\n",
    "elif 20 <= year:\n",
    "    print('성인입니다.')\n",
    "else:\n",
    "    print('1부터의 정수를 입력해 주세요.')\n",
    "    \n",
    "# 보기\n",
    "'d', #ValueError, 1부터의 정수를 입력해 주세요., 아직 학교를 다닐 나이가 아닙니다."
   ]
  },
  {
   "cell_type": "code",
   "execution_count": null,
   "metadata": {},
   "outputs": [],
   "source": [
    "number = '4'\n",
    "for n in # range(int(number)):\n",
    "    print('number')\n",
    "    \n",
    "다음 결과값이 \n",
    "number\n",
    "number\n",
    "number\n",
    "number\n",
    "로 나오게하려고 한다. 반복문을 완성하시오.\n",
    "\n",
    "# 보기\n",
    "number int(number) #range(int(number)) range(number)"
   ]
  },
  {
   "cell_type": "code",
   "execution_count": 14,
   "metadata": {
    "scrolled": true
   },
   "outputs": [
    {
     "name": "stdout",
     "output_type": "stream",
     "text": [
      "one: 글자\n",
      "8: 숫자\n",
      "twenty: 글자\n",
      "40: 숫자\n"
     ]
    }
   ],
   "source": [
    "# 다음 빈칸에 알맞은 코드를 넣으시오. \n",
    "# 단, age의 타입에 따라 구분하는 조건문을 작성하시오\n",
    "\n",
    "ages = ['one', 8, 'twenty', 40]\n",
    "for age in ages:\n",
    "#     if type(age) == int:\n",
    "        print(str(age) + ': 숫자')\n",
    "    else:\n",
    "        print(age + ': 글자')\n",
    "\n",
    "# 보기\n",
    "type(age) == 'int' #type(age) == int  type(age) = 'int'  type(age) = int"
   ]
  },
  {
   "cell_type": "code",
   "execution_count": 25,
   "metadata": {},
   "outputs": [
    {
     "name": "stdout",
     "output_type": "stream",
     "text": [
      "정수 a를 입력하세요. : 10\n",
      "정수 b를 입력하세요. : -10\n",
      "a는 10의 배수가 아닙니다.\n",
      "b는 음수입니다.\n"
     ]
    }
   ],
   "source": [
    "# 다음 코드를 완성하시오.\n",
    "\n",
    "a = int(input('정수 a를 입력하세요. : '))\n",
    "b = int(input('정수 b를 입력하세요. : '))\n",
    "\n",
    "# if type(a / 10) == int:\n",
    "    print('a는 10의 배수입니다.')\n",
    "else:\n",
    "    print('a는 10의 배수가 아닙니다.')\n",
    "    \n",
    "# if (0-b) < 0:\n",
    "    print('b는 양수입니다.')\n",
    "else:\n",
    "    print('b는 음수입니다.')\n",
    "\n",
    "# 정수 a를 입력하세요. : 10\n",
    "# 정수 b를 입력하세요. : -10\n",
    "# a는 10의 배수가 아닙니다.\n",
    "# b는 음수입니다."
   ]
  },
  {
   "cell_type": "code",
   "execution_count": 29,
   "metadata": {},
   "outputs": [
    {
     "name": "stdout",
     "output_type": "stream",
     "text": [
      "0\n",
      "0\n",
      "2\n",
      "6\n",
      "12\n",
      "20\n",
      "30\n",
      "42\n",
      "42\n"
     ]
    }
   ],
   "source": [
    "# 다음과 같이 코드를 작성했을 때, 실행 결과로 알맞은 것은?\n",
    "\n",
    "for a in range(8):\n",
    "    a *= (a-1)\n",
    "print(a)\n",
    "\n",
    "\n",
    "5040, #42, 0, None"
   ]
  },
  {
   "cell_type": "code",
   "execution_count": 30,
   "metadata": {},
   "outputs": [
    {
     "ename": "SyntaxError",
     "evalue": "invalid syntax (<ipython-input-30-17050376a717>, line 4)",
     "output_type": "error",
     "traceback": [
      "\u001b[1;36m  File \u001b[1;32m\"<ipython-input-30-17050376a717>\"\u001b[1;36m, line \u001b[1;32m4\u001b[0m\n\u001b[1;33m    elif i >10:\u001b[0m\n\u001b[1;37m       ^\u001b[0m\n\u001b[1;31mSyntaxError\u001b[0m\u001b[1;31m:\u001b[0m invalid syntax\n"
     ]
    }
   ],
   "source": [
    "# 다음 코드는 입력받은 i가 5보다 작은지 10보다 큰지를 확인하는 코드이다. (둘 다 해당되지 않으면 i를 출력한다.) 주어진 코드에 잘못된 부분을 모두 고르시오.\n",
    "\n",
    "1. i = int(input())\n",
    "2. if i > 5:\n",
    "    print('5보다 작다.')\n",
    "3.      elif i > 10:\n",
    "        print('10보다 크다.')\n",
    "    else:\n",
    "4.        print(i)\n",
    "        \n",
    "# 정답\n",
    "2,3"
   ]
  },
  {
   "cell_type": "code",
   "execution_count": 32,
   "metadata": {},
   "outputs": [
    {
     "name": "stdout",
     "output_type": "stream",
     "text": [
      "21\n"
     ]
    }
   ],
   "source": [
    "# num이라는 리스트가 [1,2,3,4,5,6]일 때, 리스트 안의 값을 모두 더할 수 있는 코드를 작성하시오.\n",
    "\n",
    "num = [1,2,3,4,5,6]\n",
    "sum=0\n",
    "for n in num:\n",
    "    sum += n\n",
    "    \n",
    "print(sum)\n",
    "\n",
    "# 보기\n",
    "sum=1,sum += n  sum=0,sum += n-1  sum=1,sum += n-1  #sum=0,sum += n"
   ]
  },
  {
   "cell_type": "code",
   "execution_count": 39,
   "metadata": {},
   "outputs": [
    {
     "name": "stdout",
     "output_type": "stream",
     "text": [
      "20\n",
      "18\n",
      "16\n",
      "14\n",
      "12\n",
      "10\n",
      "8\n",
      "6\n",
      "4\n",
      "2\n"
     ]
    }
   ],
   "source": [
    "# a가 1부터 20까지 중에서 짝수만 출력하도록 while문을 이용하여 코드를 작성하시오\n",
    "\n",
    "a = 20\n",
    "while (a <= 20):\n",
    "    if a % 2 == 0:\n",
    "        print(a)\n",
    "        a -= 1\n",
    "    else:\n",
    "        a -=1\n",
    "        \n",
    "    if a == 0:\n",
    "        break"
   ]
  },
  {
   "cell_type": "code",
   "execution_count": 41,
   "metadata": {},
   "outputs": [
    {
     "name": "stdout",
     "output_type": "stream",
     "text": [
      "3\n"
     ]
    }
   ],
   "source": [
    "# 반복문과 조건문을 이용한 코드이다. i에 어떤 값이 들어가야 다음과 같은 결과가 나오지 않겠는가?\n",
    "\n",
    "i=5\n",
    "while i != 0:\n",
    "    if i > 3:\n",
    "        i-=1\n",
    "    else:\n",
    "        break\n",
    "print(i)\n",
    "\n",
    ">>> 3\n",
    "\n",
    "\n",
    "#정답: 5"
   ]
  },
  {
   "cell_type": "code",
   "execution_count": 5,
   "metadata": {},
   "outputs": [
    {
     "name": "stdout",
     "output_type": "stream",
     "text": [
      "20\n",
      "x입니다.\n"
     ]
    }
   ],
   "source": [
    "# 다음과 같이 코드가 작성되었을 때, 결과값이 'x입니다.'가 나오려면 어떤 x에 어떤값을 입력해야 하는가?\n",
    "\n",
    "x = int(input())\n",
    "if 16 < x < 20:\n",
    "    print(x+3)\n",
    "elif 24 < x < 30:\n",
    "    print(x-5)\n",
    "else:\n",
    "    print('x입니다.')\n",
    "    \n",
    "# 보기\n",
    "26 17 25 #20"
   ]
  },
  {
   "cell_type": "code",
   "execution_count": 13,
   "metadata": {},
   "outputs": [],
   "source": [
    "# 다음과 같이 코드가 작성되었을 때, 실행 결과로 알맞은 것은?\n",
    "\n",
    "list = ['i', 'usually','study','python']\n",
    "new_list = []\n",
    "i = len(list)\n",
    "if i == 4:\n",
    "    new_list.append(list[1:i])\n",
    "    \n",
    "print(new_list)\n",
    "\n",
    "# 보기\n",
    "#[['usually', 'study', 'python']]\n",
    "['usually', 'study', 'python']\n",
    "None\n",
    "['i','usually', 'study', 'python']"
   ]
  },
  {
   "cell_type": "code",
   "execution_count": 17,
   "metadata": {
    "scrolled": true
   },
   "outputs": [
    {
     "ename": "SyntaxError",
     "evalue": "invalid syntax (<ipython-input-17-b0d670191ace>, line 3)",
     "output_type": "error",
     "traceback": [
      "\u001b[1;36m  File \u001b[1;32m\"<ipython-input-17-b0d670191ace>\"\u001b[1;36m, line \u001b[1;32m3\u001b[0m\n\u001b[1;33m    if 4 = '4':\u001b[0m\n\u001b[1;37m         ^\u001b[0m\n\u001b[1;31mSyntaxError\u001b[0m\u001b[1;31m:\u001b[0m invalid syntax\n"
     ]
    }
   ],
   "source": [
    "# 다음과 같이 코드가 작성되었을 때, 실행 결과로 알맞은 것은?\n",
    "\n",
    "if 4 = '4':\n",
    "    print(True)\n",
    "else:\n",
    "    print(False)\n",
    "    \n",
    "# 보기\n",
    "True\n",
    "False\n",
    "#SyntaxError\n",
    "ValueError"
   ]
  },
  {
   "cell_type": "code",
   "execution_count": 3,
   "metadata": {},
   "outputs": [],
   "source": [
    "# 다음과 같이 코드가 작성되었을 때, 실행결과를 0으로 하려한다. 빈칸에 들어갈 알맞은 값을 고르시오.\n",
    "\n",
    "money = 2000\n",
    "snack = 500\n",
    "water = 1000\n",
    "while money != 0:\n",
    "    if money > 1000:\n",
    "        money -= water\n",
    "    elif 0 < money <= 1000:\n",
    "        money -= snack*2\n",
    "    else:\n",
    "#         money = 0\n",
    "\n",
    "# 보기\n",
    "#0 1 2 3"
   ]
  },
  {
   "cell_type": "code",
   "execution_count": 16,
   "metadata": {},
   "outputs": [],
   "source": [
    "# 다음 구문을 실행 후 아무일도 발생하지 않으려면 어떤 코드를 선택하지 말아야 하는가?\n",
    "\n",
    "for i in range(4):\n",
    "    [      ]\n",
    "    \n",
    "# continue pass Break #Stop"
   ]
  },
  {
   "cell_type": "code",
   "execution_count": 21,
   "metadata": {},
   "outputs": [
    {
     "name": "stdout",
     "output_type": "stream",
     "text": [
      "0\n",
      "1\n",
      "2\n",
      "3\n"
     ]
    }
   ],
   "source": [
    "# 다음 빈칸에 들어갈 알맞을 코드를 고르시오.\n",
    "\n",
    "#for i in range(4):\n",
    "    print(i)\n",
    "    \n",
    "while #for if else"
   ]
  },
  {
   "cell_type": "code",
   "execution_count": 24,
   "metadata": {},
   "outputs": [
    {
     "name": "stdout",
     "output_type": "stream",
     "text": [
      " < 2단 >\n",
      "2 * 1 = 2\n",
      "2 * 2 = 4\n",
      "2 * 3 = 6\n",
      "2 * 4 = 8\n",
      "2 * 5 = 10\n",
      "2 * 6 = 12\n",
      "2 * 7 = 14\n",
      "2 * 8 = 16\n",
      "2 * 9 = 18\n",
      " < 4단 >\n",
      "4 * 1 = 4\n",
      "4 * 2 = 8\n",
      "4 * 3 = 12\n",
      "4 * 4 = 16\n",
      "4 * 5 = 20\n",
      "4 * 6 = 24\n",
      "4 * 7 = 28\n",
      "4 * 8 = 32\n",
      "4 * 9 = 36\n",
      " < 6단 >\n",
      "6 * 1 = 6\n",
      "6 * 2 = 12\n",
      "6 * 3 = 18\n",
      "6 * 4 = 24\n",
      "6 * 5 = 30\n",
      "6 * 6 = 36\n",
      "6 * 7 = 42\n",
      "6 * 8 = 48\n",
      "6 * 9 = 54\n",
      " < 8단 >\n",
      "8 * 1 = 8\n",
      "8 * 2 = 16\n",
      "8 * 3 = 24\n",
      "8 * 4 = 32\n",
      "8 * 5 = 40\n",
      "8 * 6 = 48\n",
      "8 * 7 = 56\n",
      "8 * 8 = 64\n",
      "8 * 9 = 72\n",
      " < 10단 >\n",
      "10 * 1 = 10\n",
      "10 * 2 = 20\n",
      "10 * 3 = 30\n",
      "10 * 4 = 40\n",
      "10 * 5 = 50\n",
      "10 * 6 = 60\n",
      "10 * 7 = 70\n",
      "10 * 8 = 80\n",
      "10 * 9 = 90\n"
     ]
    }
   ],
   "source": [
    "# 1부터 10단까지의 구구단 중 짝수단만 출력하려고 한다. 빈칸에 들어갈 알맞은 값은?\n",
    "\n",
    "for x in #range(2, 11 ,2):\n",
    "    print(\" < {}단 >\".format(x))\n",
    "    #for y in range(1,10):\n",
    "        print(\"{} * {} = {}\".format(x,y,x*y))\n",
    "        \n",
    "#(2, 11 ,2),for (2, 10 ,2),while (2, 11 ,1),while (2, 10 ,1),for"
   ]
  },
  {
   "cell_type": "code",
   "execution_count": 25,
   "metadata": {},
   "outputs": [
    {
     "name": "stdout",
     "output_type": "stream",
     "text": [
      "python\n",
      "python\n",
      "python\n",
      "python\n",
      "python\n",
      "python\n",
      "python\n",
      "python\n"
     ]
    }
   ],
   "source": [
    "# 반복문을 이용하여 다음과 같은 결과가 나왔다. 빈칸에 들어갈 알맞은 코드는?\n",
    "for i in range#(8):\n",
    "    print(\"python\")\n",
    "    \n",
    "# 보기\n",
    "'python' 'eight' #8 str(8)"
   ]
  },
  {
   "cell_type": "code",
   "execution_count": 26,
   "metadata": {},
   "outputs": [
    {
     "name": "stdout",
     "output_type": "stream",
     "text": [
      "3\n",
      "6\n",
      "9\n",
      "12\n",
      "15\n"
     ]
    }
   ],
   "source": [
    "# 3부터 17까지의 3의 배수를 출력하도록 숫자를 고르시오.\n",
    "\n",
    "for i in range#(3,18,3):\n",
    "    print(i)\n",
    "    \n",
    "# 보기\n",
    "3,17,3 #3,18,3 3,19,3 2,18,3"
   ]
  },
  {
   "cell_type": "code",
   "execution_count": 27,
   "metadata": {},
   "outputs": [
    {
     "name": "stdout",
     "output_type": "stream",
     "text": [
      "0 0\n",
      "1 1\n",
      "2 2\n",
      "3 3\n"
     ]
    }
   ],
   "source": [
    "# 반복문을 이용하여 다음과 같은 결과가 나왔다. 빈칸에 들어갈 알맞은 코드는?\n",
    "\n",
    "for k,v in #enumerate(range(4)):\n",
    "    print(k,v)\n",
    "    \n",
    "# 보기\n",
    "range dict #enumerate 없음"
   ]
  },
  {
   "cell_type": "code",
   "execution_count": 28,
   "metadata": {
    "scrolled": true
   },
   "outputs": [
    {
     "name": "stdout",
     "output_type": "stream",
     "text": [
      "[3, 6, 9]\n"
     ]
    }
   ],
   "source": [
    "# 다음은 list comprehension을 사용한 코드이다. 빈칸에 들어갈 알맞은 코드를 고르시오.\n",
    "\n",
    "list = [1,2,3]\n",
    "result = [#i*3 for i in list]\n",
    "print(result)\n",
    "    \n",
    "# 보기\n",
    "i i+2 #i*3 i//3"
   ]
  },
  {
   "cell_type": "code",
   "execution_count": 29,
   "metadata": {},
   "outputs": [],
   "source": [
    "# 작성된 코드를 실행한다면 나올 수 있는 결과값을 고르시오.\n",
    "\n",
    "a = 3\n",
    "def hi(a):\n",
    "    b = a*3\n",
    "    return b\n",
    "\n",
    "# 보기\n",
    "#TypeError 9 3 None"
   ]
  },
  {
   "cell_type": "code",
   "execution_count": 34,
   "metadata": {},
   "outputs": [
    {
     "data": {
      "text/plain": [
       "'H,y n'"
      ]
     },
     "execution_count": 34,
     "metadata": {},
     "output_type": "execute_result"
    }
   ],
   "source": [
    "# 작성된 코드를 실행한 결과값이 다음과 같다. 빈칸을 채우시오.\n",
    "\n",
    "sentence = \"Hello, my name is python?!\"\n",
    "sentence[0]+sentence[5]+sentence[8:11]\n",
    "\n",
    "# 보기\n",
    "5,8:11 6,8:11 5,8:10 6,8:10"
   ]
  }
 ],
 "metadata": {
  "kernelspec": {
   "display_name": "Python 3",
   "language": "python",
   "name": "python3"
  },
  "language_info": {
   "codemirror_mode": {
    "name": "ipython",
    "version": 3
   },
   "file_extension": ".py",
   "mimetype": "text/x-python",
   "name": "python",
   "nbconvert_exporter": "python",
   "pygments_lexer": "ipython3",
   "version": "3.7.3"
  }
 },
 "nbformat": 4,
 "nbformat_minor": 2
}
