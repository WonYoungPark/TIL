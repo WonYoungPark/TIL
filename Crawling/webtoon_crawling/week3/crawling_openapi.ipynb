{
 "cells": [
  {
   "cell_type": "code",
   "execution_count": 8,
   "metadata": {},
   "outputs": [
    {
     "name": "stdout",
     "output_type": "stream",
     "text": [
      "Error Code: 401\n"
     ]
    }
   ],
   "source": [
    "import requests\n",
    "\n",
    "client_id = 'holly3152'\n",
    "client_secret = '_e6nsW65Qd5expS1Nt7k'\n",
    "\n",
    "naver_open_api = 'https://openapi.naver.com/v1/search/shop.json?query=android'\n",
    "header_params = {'X-Naver-Client-Id':client_id, 'X-Naver-Client-Secret':client_secret}\n",
    "res=requests.get(naver_open_api, headers=header_params)\n",
    "\n",
    "if res.status_code ==200:\n",
    "    data = res.json()\n",
    "    for index, item in enumerate(data['items']):\n",
    "        print(index+1, item['title'],item['link'])\n",
    "else:\n",
    "    print(\"Error Code:\",res.status_code)"
   ]
  },
  {
   "cell_type": "code",
   "execution_count": null,
   "metadata": {},
   "outputs": [],
   "source": []
  }
 ],
 "metadata": {
  "kernelspec": {
   "display_name": "Python 3",
   "language": "python",
   "name": "python3"
  },
  "language_info": {
   "codemirror_mode": {
    "name": "ipython",
    "version": 3
   },
   "file_extension": ".py",
   "mimetype": "text/x-python",
   "name": "python",
   "nbconvert_exporter": "python",
   "pygments_lexer": "ipython3",
   "version": "3.7.3"
  }
 },
 "nbformat": 4,
 "nbformat_minor": 2
}
