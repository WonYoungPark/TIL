{
 "cells": [
  {
   "cell_type": "code",
   "execution_count": 1,
   "metadata": {},
   "outputs": [],
   "source": [
    "import selenium\n",
    "import time\n",
    "from selenium import webdriver\n",
    "import requests\n",
    "import pandas as pd\n",
    "from bs4 import BeautifulSoup\n",
    "import numpy as np"
   ]
  },
  {
   "cell_type": "code",
   "execution_count": 2,
   "metadata": {},
   "outputs": [],
   "source": [
    "# 드라이버 열기\n",
    "driver = webdriver.Chrome('./chromedriver')\n",
    "driver.implicitly_wait(3)\n",
    "driver.get('https://comic.naver.com/webtoon/weekday.nhn')"
   ]
  },
  {
   "cell_type": "code",
   "execution_count": 3,
   "metadata": {},
   "outputs": [],
   "source": [
    "def get_info():\n",
    "    \n",
    "    # 각 요일의 전체 웹툰의 세부정보\n",
    "    res = requests.get(url)\n",
    "    soup = BeautifulSoup(res.content,'html.parser')\n",
    "    \n",
    "    wholewebs = soup.find('ul',{'class':'img_list'})\n",
    "    daywebs = wholewebs.find_all('dl')\n",
    "    \n",
    "    alist=[]\n",
    "    for d in daywebs:\n",
    "        a = (d.text).replace('\\n',' ').replace('전체보기','').strip()\n",
    "        alist.append(a)\n",
    "    \n",
    "    return alist"
   ]
  },
  {
   "cell_type": "code",
   "execution_count": 4,
   "metadata": {},
   "outputs": [],
   "source": [
    "# 요일별 페이지 들어가기\n",
    "urls = ['mon','tue','wed','thu','fri','sat','sun']\n",
    "all_info=[]\n",
    "days_list =[]\n",
    "\n",
    "for i in range(7):\n",
    "    url = 'https://comic.naver.com/webtoon/weekdayList.nhn?week=' + urls[i]\n",
    "    res = requests.get(url)\n",
    "    soup = BeautifulSoup(res.content,'html.parser')\n",
    "    \n",
    "    # 웹툰 정보 받아오기\n",
    "    what_day = soup.find('h3',{'class':'sub_tit'}).text\n",
    "    days_list.append(what_day)\n",
    "    all_info.append(get_info())\n",
    "    \n",
    "fin_table = pd.DataFrame(all_info).T\n",
    "fin_table.columns = days_list"
   ]
  },
  {
   "cell_type": "code",
   "execution_count": 5,
   "metadata": {},
   "outputs": [],
   "source": [
    "# 엑셀로 저장\n",
    "fin_table.to_csv(\"webtoon_list.csv\")"
   ]
  }
 ],
 "metadata": {
  "kernelspec": {
   "display_name": "Python 3",
   "language": "python",
   "name": "python3"
  },
  "language_info": {
   "codemirror_mode": {
    "name": "ipython",
    "version": 3
   },
   "file_extension": ".py",
   "mimetype": "text/x-python",
   "name": "python",
   "nbconvert_exporter": "python",
   "pygments_lexer": "ipython3",
   "version": "3.7.3"
  }
 },
 "nbformat": 4,
 "nbformat_minor": 2
}
