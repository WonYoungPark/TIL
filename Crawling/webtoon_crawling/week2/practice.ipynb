{
 "cells": [
  {
   "cell_type": "code",
   "execution_count": 2,
   "metadata": {},
   "outputs": [
    {
     "name": "stdout",
     "output_type": "stream",
     "text": [
      "5\n"
     ]
    }
   ],
   "source": [
    "print(15 //3) # 몫 출력"
   ]
  },
  {
   "cell_type": "code",
   "execution_count": 3,
   "metadata": {},
   "outputs": [
    {
     "name": "stdout",
     "output_type": "stream",
     "text": [
      "Hello world\n"
     ]
    }
   ],
   "source": [
    "print(\"Hello world\")"
   ]
  },
  {
   "cell_type": "code",
   "execution_count": 4,
   "metadata": {
    "scrolled": true
   },
   "outputs": [
    {
     "name": "stdout",
     "output_type": "stream",
     "text": [
      "I don't like C language\n"
     ]
    }
   ],
   "source": [
    "print(\"I don't like C language\")"
   ]
  },
  {
   "cell_type": "markdown",
   "metadata": {},
   "source": [
    "# 변수(variable)\n",
    "## 변수 : 데이터를 기반으로 컴퓨터에 명령을 내리는 것\n",
    "## 데이터 : 문자 또는 숫자"
   ]
  },
  {
   "cell_type": "code",
   "execution_count": 5,
   "metadata": {},
   "outputs": [
    {
     "name": "stdout",
     "output_type": "stream",
     "text": [
      "hello python\n",
      "hello 1 1.1 True\n"
     ]
    }
   ],
   "source": [
    "print(\"hello python\")\n",
    "str_data = \"hello\" # 문자열(string)\n",
    "int_data = 1 # 숫자 : 정수 (integer)\n",
    "float_data = 1.1 # 숫자 : 부동소숫점(float)\n",
    "bool_data = True # 특별한 타입 : True/False (Boolean)\n",
    "\n",
    "print(str_data, int_data, float_data, bool_data)"
   ]
  },
  {
   "cell_type": "code",
   "execution_count": 6,
   "metadata": {},
   "outputs": [
    {
     "name": "stdout",
     "output_type": "stream",
     "text": [
      "6\n",
      "-2\n",
      "8\n"
     ]
    }
   ],
   "source": [
    "num1= 2\n",
    "num2 = 4\n",
    "\n",
    "print(num1+num2)\n",
    "print(num1-num2)\n",
    "print(num1*num2)"
   ]
  },
  {
   "cell_type": "code",
   "execution_count": 10,
   "metadata": {},
   "outputs": [
    {
     "name": "stdout",
     "output_type": "stream",
     "text": [
      "지름은? 20\n",
      "둘레는? 62.83184\n",
      "넓이는? 314.1592\n"
     ]
    }
   ],
   "source": [
    "r =10\n",
    "pi = 3.141592\n",
    "\n",
    "print(\"지름은?\", r*2)\n",
    "print(\"둘레는?\", r*pi*2)\n",
    "print(\"넓이는?\", (r**2)*pi)"
   ]
  },
  {
   "cell_type": "code",
   "execution_count": 12,
   "metadata": {},
   "outputs": [
    {
     "name": "stdout",
     "output_type": "stream",
     "text": [
      "입력\n",
      "what's your name?\n",
      "hi \n"
     ]
    }
   ],
   "source": [
    "print(\"입력\")\n",
    "\n",
    "name = input(\"what's your name?\")\n",
    "print(\"hi\",name)"
   ]
  },
  {
   "cell_type": "code",
   "execution_count": 14,
   "metadata": {},
   "outputs": [
    {
     "name": "stdout",
     "output_type": "stream",
     "text": [
      "<class 'float'>\n"
     ]
    }
   ],
   "source": [
    "str_digit = \"123\"\n",
    "int_digit = int(str_digit)\n",
    "\n",
    "print(type(float(int_digit)))"
   ]
  },
  {
   "cell_type": "code",
   "execution_count": 17,
   "metadata": {},
   "outputs": [
    {
     "name": "stdout",
     "output_type": "stream",
     "text": [
      "\n"
     ]
    },
    {
     "ename": "ValueError",
     "evalue": "invalid literal for int() with base 10: ''",
     "output_type": "error",
     "traceback": [
      "\u001b[1;31m---------------------------------------------------------------------------\u001b[0m",
      "\u001b[1;31mValueError\u001b[0m                                Traceback (most recent call last)",
      "\u001b[1;32m<ipython-input-17-c8084131c5c9>\u001b[0m in \u001b[0;36m<module>\u001b[1;34m\u001b[0m\n\u001b[1;32m----> 1\u001b[1;33m \u001b[0mdigit1\u001b[0m \u001b[1;33m=\u001b[0m \u001b[0mint\u001b[0m\u001b[1;33m(\u001b[0m\u001b[0minput\u001b[0m\u001b[1;33m(\u001b[0m\u001b[1;33m)\u001b[0m\u001b[1;33m)\u001b[0m\u001b[1;33m\u001b[0m\u001b[1;33m\u001b[0m\u001b[0m\n\u001b[0m\u001b[0;32m      2\u001b[0m \u001b[0mdigit2\u001b[0m \u001b[1;33m=\u001b[0m \u001b[0mint\u001b[0m\u001b[1;33m(\u001b[0m\u001b[0minput\u001b[0m\u001b[1;33m(\u001b[0m\u001b[1;33m)\u001b[0m\u001b[1;33m)\u001b[0m\u001b[1;33m\u001b[0m\u001b[1;33m\u001b[0m\u001b[0m\n\u001b[0;32m      3\u001b[0m \u001b[1;33m\u001b[0m\u001b[0m\n\u001b[0;32m      4\u001b[0m \u001b[0mprint\u001b[0m\u001b[1;33m(\u001b[0m\u001b[0mdigit1\u001b[0m\u001b[1;33m*\u001b[0m\u001b[0mdigit2\u001b[0m\u001b[1;33m)\u001b[0m\u001b[1;33m\u001b[0m\u001b[1;33m\u001b[0m\u001b[0m\n",
      "\u001b[1;31mValueError\u001b[0m: invalid literal for int() with base 10: ''"
     ]
    }
   ],
   "source": [
    "digit1 = int(input())\n",
    "digit2 = int(input())\n",
    "\n",
    "print(digit1*digit2)"
   ]
  },
  {
   "cell_type": "markdown",
   "metadata": {},
   "source": [
    "# 문자열\n",
    "문자열 내 특정 문자 개수 찾기 : count()\n",
    "문자열 길이 측정 : len()\n",
    "문자열 내 특정 문자 찾기 : found()\n",
    "문자열 내 특정 문자 a를 b로 바꾸기 : replace(a,b)\n",
    "문자열 앞 뒤로 빈칸 제거 : strip()\n",
    "## 문자열 출력\n",
    "%s : string\n",
    "%c : character\n",
    "%d : integer\n",
    "%f : float\n",
    "\n",
    "# 인덱스\n",
    "슬라이싱 string[1:4]"
   ]
  },
  {
   "cell_type": "markdown",
   "metadata": {},
   "source": [
    "### 출력\n",
    "print 함수를 사용하여 2.1415의 값을 출력하라. 단 소수점은 첫째 자리까지만 표시"
   ]
  },
  {
   "cell_type": "code",
   "execution_count": 25,
   "metadata": {},
   "outputs": [
    {
     "name": "stdout",
     "output_type": "stream",
     "text": [
      "2.1\n"
     ]
    }
   ],
   "source": [
    "digit =2.1415\n",
    "print(format(digit, \".1f\"))"
   ]
  },
  {
   "cell_type": "markdown",
   "metadata": {},
   "source": [
    "## 함수 (객체지향 함수)\n",
    "\n",
    "1. 해당 사물을 나타낼 수 있는 설계도를 만든다. (class)\n",
    "2. 해당 사물의 설계도를 기반으로 사물1의 객체를 만든다. (object)\n",
    "3. 사물1 객체의 기능을 호출한다. \n",
    "    - attribute : 사물1 객체의 변수\n",
    "    - method : 사물1 객체의 함수\n",
    "    \n",
    "사물1객체의이름.method이름(인자)"
   ]
  },
  {
   "cell_type": "code",
   "execution_count": 26,
   "metadata": {},
   "outputs": [],
   "source": [
    "# 클래스 선언\n",
    "class Qurd:\n",
    "    height=0\n",
    "    width=0\n",
    "    color=''\n",
    "    name='Qurd'\n",
    "    \n",
    "    def qurd_name(slef):\n",
    "        return self.name\n",
    "    \n",
    "    def get_area(self):\n",
    "        return self.height*self.width"
   ]
  },
  {
   "cell_type": "code",
   "execution_count": 27,
   "metadata": {},
   "outputs": [],
   "source": [
    "# 객체 생성\n",
    "qurd1 = Qurd()\n",
    "qurd2 = Qurd()"
   ]
  },
  {
   "cell_type": "code",
   "execution_count": 30,
   "metadata": {},
   "outputs": [
    {
     "name": "stdout",
     "output_type": "stream",
     "text": [
      "10 5\n"
     ]
    }
   ],
   "source": [
    "# 객체 기능 호출\n",
    "\n",
    "qurd1.width =10\n",
    "qurd1.height=10\n",
    "qurd1.color = 'blue'\n",
    "qurd1.name='blue 사각형'\n",
    "\n",
    "qurd2.width =5\n",
    "qurd2.height=5\n",
    "qurd2.color = 'yellow'\n",
    "qurd2.name='yellow 사각형'\n",
    "\n",
    "print(qurd1.width, qurd2.width)"
   ]
  }
 ],
 "metadata": {
  "kernelspec": {
   "display_name": "Python 3",
   "language": "python",
   "name": "python3"
  },
  "language_info": {
   "codemirror_mode": {
    "name": "ipython",
    "version": 3
   },
   "file_extension": ".py",
   "mimetype": "text/x-python",
   "name": "python",
   "nbconvert_exporter": "python",
   "pygments_lexer": "ipython3",
   "version": "3.7.3"
  }
 },
 "nbformat": 4,
 "nbformat_minor": 2
}
