{
 "cells": [
  {
   "cell_type": "code",
   "execution_count": null,
   "metadata": {},
   "outputs": [],
   "source": [
    "#CREATE database IF NOT exists WT_DB;\n",
    "USE WT_DB;\n",
    "\n",
    "DROP TABLE IF EXISTS WT,USERS,SEARCH;\n",
    "\n",
    "CREATE TABLE IF NOT EXISTS WT(\n",
    "\twebtoon_ID int not null auto_increment,\n",
    "    wt_date varchar(50) not null,\n",
    "    wt_url varchar(100) not null,\n",
    "    wt_title varchar(50) not null,\n",
    "    wt_rate float null,\n",
    "    wt_genre varchar(50) not null,\n",
    "    wt_age varchar(30) not null,\n",
    "    primary key(webtoon_ID)\n",
    "    );\n",
    "    \n",
    "CREATE TABLE IF NOT EXISTS USERS(\n",
    "\tuser_ID int not null auto_increment,\n",
    "    user_name varchar(50) not null,\n",
    "    user_pwd varchar(50) not null,\n",
    "    primary key(user_ID)\n",
    "    );\n",
    "    \n",
    "CREATE TABLE IF NOT EXISTS SEARCH(\n",
    "\tsearch_ID int not null auto_increment,\n",
    "    search_info varchar(100) null,\n",
    "    webtoon_ID int not null,\n",
    "    user_ID int not null,\n",
    "    primary key(search_ID),\n",
    "    foreign key(webtoon_ID)\n",
    "\t\treferences WT(webtoon_ID)\n",
    "        on delete no action\n",
    "        on update no action,\n",
    "\tforeign key(user_ID)\n",
    "\t\treferences USERS(user_ID)\n",
    "        on delete no action\n",
    "        on update no action\n",
    "\t);\n",
    "    "
   ]
  },
  {
   "cell_type": "code",
   "execution_count": null,
   "metadata": {},
   "outputs": [],
   "source": [
    "LOAD DATA LOCAL INFILE './webtoonDetail_list.csv'\n",
    "INTO TABLE WT\n",
    "CHARACTER SET utf8\n",
    "FIELDS TERMINATED BY ',';"
   ]
  },
  {
   "cell_type": "code",
   "execution_count": null,
   "metadata": {},
   "outputs": [],
   "source": [
    "show variables like '%infile%';"
   ]
  }
 ],
 "metadata": {
  "kernelspec": {
   "display_name": "Python 3",
   "language": "python",
   "name": "python3"
  },
  "language_info": {
   "codemirror_mode": {
    "name": "ipython",
    "version": 3
   },
   "file_extension": ".py",
   "mimetype": "text/x-python",
   "name": "python",
   "nbconvert_exporter": "python",
   "pygments_lexer": "ipython3",
   "version": "3.7.3"
  }
 },
 "nbformat": 4,
 "nbformat_minor": 2
}
